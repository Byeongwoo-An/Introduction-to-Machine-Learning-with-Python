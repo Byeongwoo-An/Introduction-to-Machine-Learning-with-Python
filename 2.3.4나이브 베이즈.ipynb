{
 "cells": [
  {
   "cell_type": "markdown",
   "metadata": {},
   "source": [
    "# 2.3.4 나이브 베이즈 분류기"
   ]
  },
  {
   "cell_type": "code",
   "execution_count": 3,
   "metadata": {},
   "outputs": [],
   "source": [
    "import numpy as np"
   ]
  },
  {
   "cell_type": "markdown",
   "metadata": {},
   "source": [
    "GaussianNB: 연속적인 어떤 데이터\n",
    "BernoulliNB: 이진 데이터\n",
    "MultinomialNB: 카운트 데이터\n",
    "BernoulliNB, MultinomialNB 대부분 텍스트 데이터를 분류할 때 사용"
   ]
  },
  {
   "cell_type": "code",
   "execution_count": 6,
   "metadata": {},
   "outputs": [],
   "source": [
    "# BernoulliNB\n",
    "X = np.array([[0,1,0,1],\n",
    "             [1,0,1,1],\n",
    "             [0,0,0,1],\n",
    "             [1,0,1,0]])\n",
    "y = np.array([0,1,0,1])"
   ]
  },
  {
   "cell_type": "code",
   "execution_count": 9,
   "metadata": {},
   "outputs": [
    {
     "name": "stdout",
     "output_type": "stream",
     "text": [
      "특성 카운트:\n",
      "{0: array([0, 1, 0, 2]), 1: array([2, 0, 2, 1])}\n"
     ]
    }
   ],
   "source": [
    "counts ={}\n",
    "for label in np.unique(y):\n",
    "    # 클래스 마다 반복\n",
    "    # 특성마다 1이 나타난 횟수를 센다.\n",
    "    counts[label] = X[y == label].sum(axis=0)\n",
    "print('특성 카운트:\\n{}'.format(counts))"
   ]
  },
  {
   "cell_type": "markdown",
   "metadata": {},
   "source": [
    "장점: 훈련과 예측 속도가 빠르며 훈련 과정을 이해하기 쉬움.\n",
    "희소한 고차원 데이터에서 잘 작동하며 비교적 매개변수에 민감하지 않음.\n",
    "선형 모델로는 학습 시간이 너무 오래 걸리는 매우 큰 데이터셋에는 나이브 베이즈 모델을 시도해볼 만함."
   ]
  }
 ],
 "metadata": {
  "kernelspec": {
   "display_name": "Python 3",
   "language": "python",
   "name": "python3"
  },
  "language_info": {
   "codemirror_mode": {
    "name": "ipython",
    "version": 3
   },
   "file_extension": ".py",
   "mimetype": "text/x-python",
   "name": "python",
   "nbconvert_exporter": "python",
   "pygments_lexer": "ipython3",
   "version": "3.6.6"
  }
 },
 "nbformat": 4,
 "nbformat_minor": 2
}
